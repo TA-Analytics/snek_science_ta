{
  "cells": [
    {
      "cell_type": "markdown",
      "source": [
        "### Get the Data\n",
        "1. open Tableau and access the Superstore Workbook.\n",
        "2. Select the Sample Superstore data.\n",
        "3. Create a new sheet.\n"
      ],
      "metadata": {
        "collapsed": false,
        "outputHidden": false,
        "inputHidden": false
      }
    },
    {
      "cell_type": "markdown",
      "source": [
        "### Create a Basic Scatterplot\n",
        " 3. Add sales to the Columns Shelf to form the X axis (SUM)\n",
        " 4. Add Profit Ratio to rows to form the Y axis (AGG)\n",
        " 5. add Sub-Category to the Marks Card\n",
        " 6. Change the default mark to a Circle"
      ],
      "metadata": {
        "collapsed": false,
        "outputHidden": false,
        "inputHidden": false
      }
    },
    {
      "cell_type": "markdown",
      "source": [
        "At this point, you should be able to see that sales decrease as profit ratio increases."
      ],
      "metadata": {}
    },
    {
      "cell_type": "markdown",
      "source": [
        "### Visual Tweaks to Enhance a Basic Scatterplot\n",
        "Scatterplots are great at showing a lot of points in a contained space. This does tend to get messy though.\n",
        "\n",
        "7. Add Category to the Color mark.\n",
        "8. Make the marks slightly larger (it's okay if the overlap).\n",
        "9. Once again, add Profit Ratio to the Row shelf, and then create a Dual Axis.\n",
        "10. Sychronize the axis.\n",
        "11. Hide the right axis\n",
        "12. Reduce the opacity of the first marks card.\n",
        "13. Change the secondary mark type to shape.\n",
        "14. Change your tick marks to fixed, and set the interval to 0.1 and $100,000\n",
        "15. Remove Row Dividers, Column Dividers, and set the Zero Line to none.\n",
        "16. Make the Grid Lines to dotted with a heavier weight.\n",
        "\n",
        "At this point, you should have circular marks with borders that match the underlying color.\n",
        "\n"
      ],
      "metadata": {}
    },
    {
      "cell_type": "markdown",
      "source": [
        "### Make the Scatter Plot Functional\n",
        "\n",
        "17. Add an Average Reference Line from the Analytics pane (if this is confusing, you can right click on each axis and add a reference line)\n",
        "\n",
        "There are now four quadrants on the view, and in most cases, the response to each section would vary. You could click and drag over each segment and create sets for further analysis, or you can create a calculated field.\n",
        "\n",
        "19. Create the Calculated Field\n",
        "\n",
        "We are going create a calculated field using WINDOW_AVG. Below is the formula:\n",
        "\n",
        "---\n",
        "\n",
        "IF [Profit Ratio] > WINDOW_AVG([Profit Ratio]) AND SUM([Sales]) < WINDOW_AVG(SUM([Sales])) THEN \"High Profit Ratio & Low Sales\"\n",
        "\n",
        "ELSEIF [Profit Ratio] > WINDOW_AVG([Profit Ratio]) AND SUM([Sales]) > WINDOW_AVG(SUM([Sales])) THEN \"High Profit Ratio & High Sales\"\n",
        "\n",
        "ELSEIF [Profit Ratio] < WINDOW_AVG([Profit Ratio]) AND SUM([Sales]) > WINDOW_AVG(SUM([Sales])) THEN \"Low Profit Ratio & High Sales\"\n",
        "\n",
        "ELSE \"Low Profit Ratio & Low Sales\"\n",
        "\n",
        "END\n",
        "\n",
        "---\n",
        "\n",
        "Name the calculation Segmentation or Bannana\n",
        "\n(you may have issues copying and pasting because of UTF computer garbage, just replace the quotes with new quotes.)"
      ],
      "metadata": {}
    },
    {
      "cell_type": "markdown",
      "source": [
        "### Apply the Fun in Functionality \n",
        "###### (Sorry)\n",
        "19. Drop your new segment onto the primary color card.\n",
        "20. Change your new segments compute function to compute using Sub-Category.\n",
        "\nYou know have an view representing your made up segments. In a real world scenario, you may become interested in the high profit/low sales quadrant. To target these specifically, right click on the color in question on the legend, and select Keep Only. Drag over the most profitable marks, right click on one and click create set. You now have your most profitable sub-categories available for further analysis (Why they so profitable?)"
      ],
      "metadata": {}
    },
    {
      "cell_type": "markdown",
      "source": [
        "An example can be found here: https://goo.gl/p6E92u"
      ],
      "metadata": {}
    }
  ],
  "metadata": {
    "kernel_info": {
      "name": "python3"
    },
    "kernelspec": {
      "name": "python3",
      "language": "python",
      "display_name": "Python 3"
    },
    "language_info": {
      "name": "python",
      "version": "3.6.1",
      "mimetype": "text/x-python",
      "codemirror_mode": {
        "name": "ipython",
        "version": 3
      },
      "pygments_lexer": "ipython3",
      "nbconvert_exporter": "python",
      "file_extension": ".py"
    },
    "nteract": {
      "version": "0.8.4"
    }
  },
  "nbformat": 4,
  "nbformat_minor": 4
}