{
  "cells": [
    {
      "cell_type": "code",
      "source": [
        "import pandas as pd\n",
        "import numpy as np\n",
        "from sklearn.preprocessing import LabelEncoder\n",
        "import random\n",
        "from sklearn.ensemble import RandomForestClassifier\n",
        "from sklearn.ensemble import GradientBoostingClassifier"
      ],
      "outputs": [],
      "execution_count": null,
      "metadata": {
        "collapsed": false,
        "outputHidden": false,
        "inputHidden": false
      }
    },
    {
      "cell_type": "code",
      "source": [
        "#Import/capture data: assign csv to a variable\n",
        "train_url = ''\n",
        "test_url = ''\n",
        "train=pd.read_csv(train_url)\n",
        "test=pd.read_csv(test_url)\n",
        "#Create a flag for Train and Test Data set\n",
        "train['Type']='Train'\n",
        "test['Type']='Test'\n",
        "# concat data\n",
        "fullData = pd.concat([train,test],axis=0) #Combined both Train and Test Data set"
      ],
      "outputs": [],
      "execution_count": null,
      "metadata": {
        "collapsed": false,
        "outputHidden": true,
        "inputHidden": false
      }
    },
    {
      "cell_type": "code",
      "source": [
        "# view columns and summary data\n",
        "fullData.columns # This will show all the column names\n",
        "fullData.head(10) # Show first 10 records of dataframe\n",
        "fullData.describe() #You can look at summary of numerical fields by using describe() function"
      ],
      "outputs": [],
      "execution_count": null,
      "metadata": {
        "collapsed": false,
        "outputHidden": true,
        "inputHidden": false
      }
    },
    {
      "cell_type": "code",
      "source": [
        "# identify ID variables, target variables, categorical variables, numerical variables and other variables\n",
        "ID_col = ['REF_NO']\n",
        "target_col = [\"Account.Status\"]\n",
        "cat_cols = ['children','age_band','status','occupation','occupation_partner','home_status','family_income','self_employed', 'self_employed_partner','year_last_moved','TVarea','post_code','post_area','gender','region']\n",
        "num_cols= list(set(list(fullData.columns))-set(cat_cols)-set(ID_col)-set(target_col)-set(data_col))\n",
        "other_col=['Type'] #Test and Train Data set identifier"
      ],
      "outputs": [],
      "execution_count": null,
      "metadata": {
        "collapsed": false,
        "outputHidden": false,
        "inputHidden": false
      }
    },
    {
      "cell_type": "code",
      "source": [
        "# Identify the variables with missing values and create a flag for those\n",
        "fullData.isnull().any()"
      ],
      "outputs": [],
      "execution_count": null,
      "metadata": {
        "collapsed": false,
        "outputHidden": false,
        "inputHidden": false
      }
    },
    {
      "cell_type": "code",
      "source": [
        "# Combined numerical and Categorical variables\n",
        "num_cat_cols = num_cols+cat_cols\n",
        "#Create a new variable for each variable having missing value with VariableName_NA \n",
        "# and flag missing value with 1 and other with 0\n",
        "for var in num_cat_cols:\n",
        "    if fullData[var].isnull().any()==True:\n",
        "        fullData[var+'_NA']=fullData[var].isnull()*1"
      ],
      "outputs": [],
      "execution_count": null,
      "metadata": {
        "collapsed": false,
        "outputHidden": false,
        "inputHidden": false
      }
    },
    {
      "cell_type": "code",
      "source": [
        "#Impute numerical missing values with mean\n",
        "fullData[num_cols] = fullData[num_cols].fillna(fullData[num_cols].mean(),inplace=True)"
      ],
      "outputs": [],
      "execution_count": null,
      "metadata": {
        "collapsed": false,
        "outputHidden": false,
        "inputHidden": false
      }
    },
    {
      "cell_type": "code",
      "source": [
        "#Impute categorical missing values with -9999\n",
        "fullData[cat_cols] = fullData[cat_cols].fillna(value = -9999)"
      ],
      "outputs": [],
      "execution_count": null,
      "metadata": {
        "collapsed": false,
        "outputHidden": false,
        "inputHidden": false
      }
    },
    {
      "cell_type": "code",
      "source": [
        "#create label encoders for categorical features\n",
        "for var in cat_cols:\n",
        " number = LabelEncoder()\n",
        " fullData[var] = number.fit_transform(fullData[var].astype('str'))\n",
        "\n",
        "#Target variable is also a categorical so convert it\n",
        "fullData[\"Account.Status\"] = number.fit_transform(fullData[\"Account.Status\"].astype('str'))\n",
        "\n",
        "train=fullData[fullData['Type']=='Train']\n",
        "test=fullData[fullData['Type']=='Test']\n",
        "\n",
        "train['is_train'] = np.random.uniform(0, 1, len(train)) <= .75\n",
        "Train, Validate = train[train['is_train']==True], train[train['is_train']==False]"
      ],
      "outputs": [],
      "execution_count": null,
      "metadata": {
        "collapsed": false,
        "outputHidden": false,
        "inputHidden": false
      }
    },
    {
      "cell_type": "code",
      "source": [
        "#  Pass the imputed and dummy (missing values flags) variables into the modelling process. I am using random forest to predict the class. If you have a problem with this, write your own code.\n",
        "features=list(set(list(fullData.columns))-set(ID_col)-set(target_col)-set(other_col))"
      ],
      "outputs": [],
      "execution_count": null,
      "metadata": {
        "collapsed": false,
        "outputHidden": false,
        "inputHidden": false
      }
    },
    {
      "cell_type": "code",
      "source": [
        "x_train = Train[list(features)].values\n",
        "y_train = Train[\"Account.Status\"].values\n",
        "x_validate = Validate[list(features)].values\n",
        "y_validate = Validate[\"Account.Status\"].values\n",
        "x_test=test[list(features)].values"
      ],
      "outputs": [],
      "execution_count": null,
      "metadata": {
        "collapsed": false,
        "outputHidden": false,
        "inputHidden": false
      }
    },
    {
      "cell_type": "code",
      "source": [
        "random.seed(100)\n",
        "rf = RandomForestClassifier(n_estimators=1000)\n",
        "rf.fit(x_train, y_train)"
      ],
      "outputs": [],
      "execution_count": null,
      "metadata": {
        "collapsed": false,
        "outputHidden": false,
        "inputHidden": false
      }
    },
    {
      "cell_type": "code",
      "source": [
        "status = rf.predict_proba(x_validate)\n",
        "fpr, tpr, _ = roc_curve(y_validate, status[:,1])\n",
        "roc_auc = auc(fpr, tpr)\n",
        "print(roc_auc)\n",
        "\n",
        "final_status = rf.predict_proba(x_test)\n",
        "test[\"Account.Status\"]=final_status[:,1]\n",
        "desktop = \"C:/Users/sbiggs/Desktop\"\n",
        "test.to_csv(desktop, columns=['REF_NO','Account.Status'])"
      ],
      "outputs": [],
      "execution_count": null,
      "metadata": {
        "collapsed": false,
        "outputHidden": false,
        "inputHidden": false
      }
    },
    {
      "cell_type": "code",
      "source": [],
      "outputs": [],
      "execution_count": null,
      "metadata": {
        "collapsed": false,
        "outputHidden": false,
        "inputHidden": false
      }
    }
  ],
  "metadata": {
    "kernel_info": {
      "name": "python3"
    },
    "kernelspec": {
      "name": "python3",
      "language": "python",
      "display_name": "Python 3"
    },
    "language_info": {
      "name": "python",
      "version": "3.6.1",
      "mimetype": "text/x-python",
      "codemirror_mode": {
        "name": "ipython",
        "version": 3
      },
      "pygments_lexer": "ipython3",
      "nbconvert_exporter": "python",
      "file_extension": ".py"
    },
    "nteract": {
      "version": "0.8.4"
    }
  },
  "nbformat": 4,
  "nbformat_minor": 4
}