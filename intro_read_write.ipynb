{
 "cells": [
  {
   "cell_type": "markdown",
   "metadata": {},
   "source": [
    "### The basics: Reading and writing data; using python as a REPL (read evaluate print loop)"
   ]
  },
  {
   "cell_type": "markdown",
   "metadata": {},
   "source": [
    "Programs will typically have input and output. This notebook will show you how to print values to the screen and allow the end user to provide input. By the end you should understand how to create a basic variable, assign a value to it, and display that value."
   ]
  },
  {
   "cell_type": "markdown",
   "metadata": {},
   "source": [
    "Notebooks function similar to the way a basic terminal would. You can use them as a REPL.\n",
    "As an example, you can do math with Python and expect a return"
   ]
  },
  {
   "cell_type": "code",
   "execution_count": 1,
   "metadata": {},
   "outputs": [
    {
     "data": {
      "text/plain": [
       "4"
      ]
     },
     "execution_count": 1,
     "metadata": {},
     "output_type": "execute_result"
    }
   ],
   "source": [
    "# run basic math. hold shift and press the return key to execute the below code.\n",
    "2+2"
   ]
  },
  {
   "cell_type": "markdown",
   "metadata": {},
   "source": [
    "Writing data is also easy in Python."
   ]
  },
  {
   "cell_type": "code",
   "execution_count": 2,
   "metadata": {},
   "outputs": [
    {
     "name": "stdout",
     "output_type": "stream",
     "text": [
      "this is some output\n"
     ]
    }
   ],
   "source": [
    "# When you need to write data use the print function\n",
    "print('this is some output')"
   ]
  },
  {
   "cell_type": "markdown",
   "metadata": {},
   "source": [
    "### Variables\n",
    "Variables are a way to tag or label information. Variables are the basic building blocks of programming and DS. In python, (almost) everything is an object and variables allow you to name them for future use."
   ]
  },
  {
   "cell_type": "markdown",
   "metadata": {},
   "source": [
    "There are two basic programming concepts related to variables, mutation and state. For our purposes, we are only going to worry about state. State is the digital representation of a model.\n",
    "\n",
    "This can sometimes sounds scary but we can use an everyday example to explain this concept. So let's model a lightbulb. To model a lightbulb's current status you may want to know if it is \"on\" or \"off\". To represent this, you could simply assign the value of \"off\" to a variable \"status\". This would appear as follows:\n",
    "\n",
    "    status = \"off\"\n"
   ]
  },
  {
   "cell_type": "code",
   "execution_count": 3,
   "metadata": {},
   "outputs": [],
   "source": [
    "# lets execute the above example; create a status variable and assign a status to it\n"
   ]
  },
  {
   "cell_type": "markdown",
   "metadata": {},
   "source": [
    "Lets expalain what is going on. Starting from the right, the word \"off\" is surrounded by quotes. This is a string literal, the quotes tell the interpreter that this is a string object, and thus has sytax properties. In the center of the above example is the = which is the assignment operator. This is the method in which you tell the program to bind your variable name to the assigned value. Basically, the thing on the left currently represents the thing on the right. So status is a variable that holds the string value of \"off\".\n",
    "\n",
    "What other properties of a lightbulb could we model? What conditions or properties would be useful for a home automation program to know about a lightbulb?"
   ]
  },
  {
   "cell_type": "markdown",
   "metadata": {},
   "source": [
    "#### Tying it together and the begining of data types"
   ]
  },
  {
   "cell_type": "markdown",
   "metadata": {},
   "source": [
    "Data can come from various sources. For example purposes we will use the input function to get data. It's a little more interactive and helps illustrate a few points."
   ]
  },
  {
   "cell_type": "code",
   "execution_count": 28,
   "metadata": {},
   "outputs": [
    {
     "name": "stdin",
     "output_type": "stream",
     "text": [
      "enter a number 6\n"
     ]
    }
   ],
   "source": [
    "# Assign the value of the users input to a variable\n",
    "# creating a variable is as simple as naming it and using the equal sign to assign a value to it.\n",
    "# Variables\n",
    "val_1 = input('enter a number')"
   ]
  },
  {
   "cell_type": "code",
   "execution_count": 42,
   "metadata": {},
   "outputs": [],
   "source": [
    "# Create a new variable called val_2, and assign another input function to that variable.\n"
   ]
  },
  {
   "cell_type": "code",
   "execution_count": 18,
   "metadata": {},
   "outputs": [],
   "source": [
    "# lets attempte to run some basic math using our two new variables; add the two variables together\n",
    "# assign the outcome to a new variable. Choose a variable name and use it to replace the hashes.\n",
    "# follow the python method when creating a variable: \n",
    "# be lowercase, use an underscore to separate words, do not start with numbers.\n"
   ]
  },
  {
   "cell_type": "code",
   "execution_count": 43,
   "metadata": {},
   "outputs": [],
   "source": [
    "# now display/print the value of your new variable\n"
   ]
  },
  {
   "cell_type": "markdown",
   "metadata": {},
   "source": [
    "Knowledge test: Did the above print statement return the value you expected? Why do you think this occured? How can we test this?"
   ]
  },
  {
   "cell_type": "code",
   "execution_count": 40,
   "metadata": {},
   "outputs": [
    {
     "name": "stdout",
     "output_type": "stream",
     "text": [
      "I am 10 years old\n"
     ]
    }
   ],
   "source": [
    "# Lets combine types in one statement\n",
    "print('I am', 10, 'years old')"
   ]
  },
  {
   "cell_type": "markdown",
   "metadata": {},
   "source": [
    "Knowledge test\n",
    "Using the above as an example, how can we create a basic program the takes a input from a user, and combines it into a returned statement?"
   ]
  },
  {
   "cell_type": "code",
   "execution_count": null,
   "metadata": {},
   "outputs": [],
   "source": [
    "#### Enter your code below"
   ]
  },
  {
   "cell_type": "code",
   "execution_count": 25,
   "metadata": {},
   "outputs": [],
   "source": [
    "# below we are creating a list object\n",
    "q = [41, 35, 30, 22, 32, 15]"
   ]
  },
  {
   "cell_type": "code",
   "execution_count": 44,
   "metadata": {},
   "outputs": [],
   "source": [
    "# how can we run the below min function using the list called q?\n",
    "####(min(q))"
   ]
  },
  {
   "cell_type": "code",
   "execution_count": 53,
   "metadata": {},
   "outputs": [],
   "source": [
    "x = \"sally rally\""
   ]
  },
  {
   "cell_type": "code",
   "execution_count": 54,
   "metadata": {},
   "outputs": [
    {
     "data": {
      "text/plain": [
       "4401941104"
      ]
     },
     "execution_count": 54,
     "metadata": {},
     "output_type": "execute_result"
    }
   ],
   "source": [
    "id(x)"
   ]
  },
  {
   "cell_type": "code",
   "execution_count": 56,
   "metadata": {},
   "outputs": [
    {
     "name": "stdout",
     "output_type": "stream",
     "text": [
      "[2, 3]\n"
     ]
    }
   ],
   "source": [
    "foo = [\"A\", 1, 2, 3, \"B\", 4]\n",
    "print(foo[2:4])"
   ]
  },
  {
   "cell_type": "code",
   "execution_count": null,
   "metadata": {},
   "outputs": [],
   "source": []
  }
 ],
 "metadata": {
  "kernelspec": {
   "display_name": "Python 3",
   "language": "python",
   "name": "python3"
  },
  "language_info": {
   "codemirror_mode": {
    "name": "ipython",
    "version": 3
   },
   "file_extension": ".py",
   "mimetype": "text/x-python",
   "name": "python",
   "nbconvert_exporter": "python",
   "pygments_lexer": "ipython3",
   "version": "3.7.0"
  }
 },
 "nbformat": 4,
 "nbformat_minor": 2
}
